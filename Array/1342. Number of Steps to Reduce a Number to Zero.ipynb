{
 "cells": [
  {
   "cell_type": "code",
   "execution_count": 1,
   "id": "42b987da",
   "metadata": {},
   "outputs": [],
   "source": [
    "#In one step, if the current number is even, you have to divide it by 2, otherwise, you have to subtract 1 from it"
   ]
  },
  {
   "cell_type": "code",
   "execution_count": 1,
   "id": "efe76150",
   "metadata": {},
   "outputs": [
    {
     "name": "stdout",
     "output_type": "stream",
     "text": [
      "14\n",
      "14\n",
      "1\n",
      "7.0\n",
      "we are in elif\n",
      "7.0\n",
      "6.0\n",
      "6.0\n",
      "3\n",
      "3.0\n",
      "we are in elif\n",
      "3.0\n",
      "2.0\n",
      "2.0\n",
      "5\n",
      "1.0\n",
      "we are in elif\n",
      "1.0\n",
      "0.0\n"
     ]
    }
   ],
   "source": [
    "class Solution(object):\n",
    "    def numberOfSteps(self, num):\n",
    "        k=0\n",
    "        while True:\n",
    "            print(num)\n",
    "            if num%2==0 and num>0:\n",
    "                print(num)\n",
    "                num=num/2\n",
    "                k+=1\n",
    "                print(k)\n",
    "                continue\n",
    "            elif num%2==1 or num>0:\n",
    "                print(\"we are in elif\")\n",
    "                print(num)\n",
    "                num=num-1\n",
    "                k+=1\n",
    "                continue\n",
    "            elif num==0.0 or num==0: \n",
    "                break\n",
    "            else:\n",
    "                break\n",
    "        return k\n",
    "num=14\n",
    "p=Solution()\n",
    "p1=p.numberOfSteps(num)"
   ]
  },
  {
   "cell_type": "code",
   "execution_count": 2,
   "id": "853e2d3a",
   "metadata": {},
   "outputs": [
    {
     "data": {
      "text/plain": [
       "6"
      ]
     },
     "execution_count": 2,
     "metadata": {},
     "output_type": "execute_result"
    }
   ],
   "source": [
    "p1"
   ]
  },
  {
   "cell_type": "code",
   "execution_count": null,
   "id": "f782d192",
   "metadata": {},
   "outputs": [],
   "source": []
  }
 ],
 "metadata": {
  "kernelspec": {
   "display_name": "Python 3 (ipykernel)",
   "language": "python",
   "name": "python3"
  },
  "language_info": {
   "codemirror_mode": {
    "name": "ipython",
    "version": 3
   },
   "file_extension": ".py",
   "mimetype": "text/x-python",
   "name": "python",
   "nbconvert_exporter": "python",
   "pygments_lexer": "ipython3",
   "version": "3.8.12"
  }
 },
 "nbformat": 4,
 "nbformat_minor": 5
}
