{
 "cells": [
  {
   "cell_type": "code",
   "execution_count": 3,
   "id": "d4a81294",
   "metadata": {},
   "outputs": [],
   "source": [
    "#In one step, if the current number is even, you have to divide it by 2, otherwise, you have to subtract 1 from it"
   ]
  },
  {
   "cell_type": "code",
   "execution_count": 4,
   "id": "e9c23d28",
   "metadata": {},
   "outputs": [],
   "source": [
    "class Solution(object):\n",
    "    def numberOfSteps(self, num):\n",
    "        k=0\n",
    "        while True:\n",
    "            if num%2==0 and num>0:\n",
    "                num=num/2\n",
    "                k+=1\n",
    "                continue\n",
    "            elif num%2==1 or num>0:\n",
    "                num=num-1\n",
    "                k+=1\n",
    "                continue\n",
    "            elif num==0.0 or num==0: \n",
    "                break\n",
    "            else:\n",
    "                break\n",
    "        return k\n",
    "num=14\n",
    "p=Solution()\n",
    "p1=p.numberOfSteps(num)"
   ]
  },
  {
   "cell_type": "code",
   "execution_count": 5,
   "id": "ec42d20b",
   "metadata": {},
   "outputs": [
    {
     "data": {
      "text/plain": [
       "6"
      ]
     },
     "execution_count": 5,
     "metadata": {},
     "output_type": "execute_result"
    }
   ],
   "source": [
    "p1"
   ]
  },
  {
   "cell_type": "code",
   "execution_count": null,
   "id": "341b40dd",
   "metadata": {},
   "outputs": [],
   "source": []
  }
 ],
 "metadata": {
  "kernelspec": {
   "display_name": "Python 3 (ipykernel)",
   "language": "python",
   "name": "python3"
  },
  "language_info": {
   "codemirror_mode": {
    "name": "ipython",
    "version": 3
   },
   "file_extension": ".py",
   "mimetype": "text/x-python",
   "name": "python",
   "nbconvert_exporter": "python",
   "pygments_lexer": "ipython3",
   "version": "3.8.12"
  }
 },
 "nbformat": 4,
 "nbformat_minor": 5
}
