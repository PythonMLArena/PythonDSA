{
 "cells": [
  {
   "cell_type": "code",
   "execution_count": 40,
   "id": "216cef06",
   "metadata": {},
   "outputs": [],
   "source": [
    "class Solution(object):\n",
    "    def twoSum(self, nums, target):\n",
    "        import numpy\n",
    "        \n",
    "        \"\"\"\n",
    "        :type nums: List[int]\n",
    "        :type target: int\n",
    "        :rtype: List[int]\n",
    "        \"\"\"\n",
    "        indices=[]\n",
    "        \n",
    "        for i in range(len(nums)):\n",
    "            try:\n",
    "                if nums[i]+nums[i+1]==target:\n",
    "                    indices.append(i+1)\n",
    "                    indices.append(i)\n",
    "                    \n",
    "            except IndexError:\n",
    "                pass\n",
    "            \n",
    "        indices=numpy.unique(indices)\n",
    "            \n",
    "        return list(indices)\n",
    "    "
   ]
  },
  {
   "cell_type": "code",
   "execution_count": 49,
   "id": "216526a7",
   "metadata": {},
   "outputs": [],
   "source": [
    "class Solution2(object):# final accepted code\n",
    "    def twoSum(self, nums, target):\n",
    "        import numpy\n",
    "        \n",
    "        \"\"\"\n",
    "        :type nums: List[int]\n",
    "        :type target: int\n",
    "        :rtype: List[int]\n",
    "        \"\"\"\n",
    "        indices=[]\n",
    "        for i in nums:\n",
    "            for j in range(nums.index(i)+1,len(nums)):\n",
    "                try:\n",
    "                    if i+nums[j]==target:\n",
    "                        indices.append(nums.index(i))\n",
    "                        indices.append(j)\n",
    "\n",
    "                except IndexError:\n",
    "                    pass\n",
    "        \n",
    "            \n",
    "        indices=numpy.unique(indices)\n",
    "            \n",
    "        return list(indices)"
   ]
  },
  {
   "cell_type": "code",
   "execution_count": 50,
   "id": "50cad030",
   "metadata": {},
   "outputs": [],
   "source": [
    "nums=[3,2,3]\n",
    "target=6\n",
    "p=Solution2()\n",
    "ans=p.twoSum(nums,target)"
   ]
  },
  {
   "cell_type": "code",
   "execution_count": 51,
   "id": "c167e7e6",
   "metadata": {},
   "outputs": [
    {
     "data": {
      "text/plain": [
       "[0, 2]"
      ]
     },
     "execution_count": 51,
     "metadata": {},
     "output_type": "execute_result"
    }
   ],
   "source": [
    "ans"
   ]
  },
  {
   "cell_type": "code",
   "execution_count": 52,
   "id": "63cd4960",
   "metadata": {},
   "outputs": [],
   "source": [
    "nums=[2,7,11,15]\n",
    "target=9\n",
    "p=Solution2()\n",
    "ans1=p.twoSum(nums,target)"
   ]
  },
  {
   "cell_type": "code",
   "execution_count": 53,
   "id": "9c1442a1",
   "metadata": {},
   "outputs": [
    {
     "data": {
      "text/plain": [
       "[0, 1]"
      ]
     },
     "execution_count": 53,
     "metadata": {},
     "output_type": "execute_result"
    }
   ],
   "source": [
    "ans1"
   ]
  },
  {
   "cell_type": "code",
   "execution_count": null,
   "id": "4af1218a",
   "metadata": {},
   "outputs": [],
   "source": []
  }
 ],
 "metadata": {
  "kernelspec": {
   "display_name": "Python 3 (ipykernel)",
   "language": "python",
   "name": "python3"
  },
  "language_info": {
   "codemirror_mode": {
    "name": "ipython",
    "version": 3
   },
   "file_extension": ".py",
   "mimetype": "text/x-python",
   "name": "python",
   "nbconvert_exporter": "python",
   "pygments_lexer": "ipython3",
   "version": "3.8.12"
  }
 },
 "nbformat": 4,
 "nbformat_minor": 5
}
