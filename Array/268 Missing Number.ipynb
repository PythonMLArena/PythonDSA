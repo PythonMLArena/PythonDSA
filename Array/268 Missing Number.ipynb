{
 "cells": [
  {
   "cell_type": "code",
   "execution_count": 1,
   "id": "8c997d0f",
   "metadata": {},
   "outputs": [],
   "source": [
    "#Given an array nums containing n distinct numbers in the range [0, n],\n",
    "#return the only number in the range that is missing from the array."
   ]
  },
  {
   "cell_type": "code",
   "execution_count": 10,
   "id": "952cd741",
   "metadata": {},
   "outputs": [
    {
     "name": "stdout",
     "output_type": "stream",
     "text": [
      "2\n"
     ]
    }
   ],
   "source": [
    "class Solution(object):\n",
    "    def missingNumber(self, nums):\n",
    "        n=len(nums)\n",
    "        for i in range(n+1):\n",
    "            if i in nums:\n",
    "                pass\n",
    "            else:\n",
    "                p=i\n",
    "                #print(i)\n",
    "        return p\n",
    "nums = [3,0,1]\n",
    "p=Solution()\n",
    "p1=p.missingNumber(nums)\n",
    "print(p1)"
   ]
  },
  {
   "cell_type": "code",
   "execution_count": null,
   "id": "ab034b0a",
   "metadata": {},
   "outputs": [],
   "source": []
  }
 ],
 "metadata": {
  "kernelspec": {
   "display_name": "Python 3 (ipykernel)",
   "language": "python",
   "name": "python3"
  },
  "language_info": {
   "codemirror_mode": {
    "name": "ipython",
    "version": 3
   },
   "file_extension": ".py",
   "mimetype": "text/x-python",
   "name": "python",
   "nbconvert_exporter": "python",
   "pygments_lexer": "ipython3",
   "version": "3.8.12"
  }
 },
 "nbformat": 4,
 "nbformat_minor": 5
}
