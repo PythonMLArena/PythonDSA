{
 "cells": [
  {
   "cell_type": "code",
   "execution_count": 44,
   "id": "3da70087",
   "metadata": {},
   "outputs": [],
   "source": [
    "#Given two binary strings a and b, return their sum as a binary string.\n",
    "#a = \"1010\", b = \"1011\"\n",
    "class Solution(object):\n",
    "    def addBinary(self, a, b):\n",
    "        d=max(len(str(a)) ,len(str(b)))\n",
    "        a=str(a)\n",
    "        b=str(b)\n",
    "        if len(a)>len(b):\n",
    "            b=str((len(a)-len(b))*\"0\")+b\n",
    "            #print(b)\n",
    "        elif len(b)>len(a):\n",
    "            a=str((len(b)-len(a))*\"0\")+a #pre adding zeros to make both number length same\n",
    "            #print(a)\n",
    "        else:\n",
    "            pass\n",
    "        print(a,b)\n",
    "        print(d)\n",
    "        ans=\"\"\n",
    "        header=0\n",
    "        for i in range(d-1,-1,-1):\n",
    "            if header!=0:\n",
    "                k=int(a[i])+int(b[i])+header #handling Carry\n",
    "                if k>1 and k<2:\n",
    "                    k=0\n",
    "                    header+=1\n",
    "                elif k>2:\n",
    "                    k=1\n",
    "                    header+=1\n",
    "                elif k==2:\n",
    "                    k=0\n",
    "                    header+=1\n",
    "                else:\n",
    "                    k=k\n",
    "                header-=1\n",
    "            else:\n",
    "                k=int(a[i])+int(b[i]) #handing additon\n",
    "                if k>1:\n",
    "                    k=0\n",
    "                    header+=1\n",
    "                else:\n",
    "                    k=k\n",
    "            ans=ans+str(k)\n",
    "            print(\"addition\")\n",
    "            print(ans)\n",
    "            print(header)\n",
    "            print(\"____________________________________________\")\n",
    "        print(\"-----------Final Answer-----------------------\")\n",
    "        print(ans)\n",
    "        if header==1:\n",
    "            ans=ans+str(header)\n",
    "        nw_str=\"\"\n",
    "        for i in range(len(ans)-1,-1,-1):\n",
    "            nw_str=nw_str+ans[i]\n",
    "\n",
    "        return nw_str\n",
    "\n",
    "        "
   ]
  },
  {
   "cell_type": "code",
   "execution_count": 86,
   "id": "ea85ec5b",
   "metadata": {},
   "outputs": [],
   "source": [
    "a=11\n",
    "b=1"
   ]
  },
  {
   "cell_type": "code",
   "execution_count": 87,
   "id": "8d5012be",
   "metadata": {},
   "outputs": [],
   "source": []
  },
  {
   "cell_type": "code",
   "execution_count": 88,
   "id": "c88f6e41",
   "metadata": {},
   "outputs": [
    {
     "data": {
      "text/plain": [
       "1"
      ]
     },
     "execution_count": 88,
     "metadata": {},
     "output_type": "execute_result"
    }
   ],
   "source": [
    "b"
   ]
  },
  {
   "cell_type": "code",
   "execution_count": 148,
   "id": "f0ac28f7",
   "metadata": {},
   "outputs": [
    {
     "name": "stdout",
     "output_type": "stream",
     "text": [
      "1111 1111\n",
      "4\n",
      "addition\n",
      "0\n",
      "1\n",
      "____________________________________________\n",
      "addition\n",
      "01\n",
      "1\n",
      "____________________________________________\n",
      "addition\n",
      "011\n",
      "1\n",
      "____________________________________________\n",
      "addition\n",
      "0111\n",
      "1\n",
      "____________________________________________\n",
      "-----------Final Answer-----------------------\n",
      "0111\n"
     ]
    }
   ],
   "source": [
    "a=1111\n",
    "b=1111\n",
    "d=max(len(str(a)) ,len(str(b)))\n",
    "a=str(a)\n",
    "b=str(b)\n",
    "if len(a)>len(b):\n",
    "    b=str((len(a)-len(b))*\"0\")+b\n",
    "    #print(b)\n",
    "elif len(b)>len(a):\n",
    "    a=str((len(b)-len(a))*\"0\")+a\n",
    "    #print(a)\n",
    "else:\n",
    "    pass\n",
    "print(a,b)\n",
    "print(d)\n",
    "ans=\"\"\n",
    "header=0\n",
    "for i in range(d-1,-1,-1):\n",
    "    if header!=0:\n",
    "        k=int(a[i])+int(b[i])+header\n",
    "        if k>1 and k<2:\n",
    "            k=0\n",
    "            header+=1\n",
    "        elif k>2:\n",
    "            k=1\n",
    "            header+=1\n",
    "        elif k==2:\n",
    "            k=0\n",
    "            header+=1\n",
    "        else:\n",
    "            k=k\n",
    "        header-=1\n",
    "    else:\n",
    "        k=int(a[i])+int(b[i])\n",
    "        if k>1:\n",
    "            k=0\n",
    "            header+=1\n",
    "        else:\n",
    "            k=k\n",
    "    ans=ans+str(k)\n",
    "    print(\"addition\")\n",
    "    print(ans)\n",
    "    print(header)\n",
    "    print(\"____________________________________________\")\n",
    "print(\"-----------Final Answer-----------------------\")\n",
    "print(ans)\n",
    "if header==1:\n",
    "    ans=ans+str(header)\n",
    "nw_str=\"\"\n",
    "for i in range(len(ans)-1,-1,-1):\n",
    "    nw_str=nw_str+ans[i]\n",
    "    \n",
    "\n"
   ]
  },
  {
   "cell_type": "code",
   "execution_count": 149,
   "id": "97840043",
   "metadata": {},
   "outputs": [
    {
     "data": {
      "text/plain": [
       "'11110'"
      ]
     },
     "execution_count": 149,
     "metadata": {},
     "output_type": "execute_result"
    }
   ],
   "source": [
    "nw_str"
   ]
  },
  {
   "cell_type": "code",
   "execution_count": null,
   "id": "70bf3bb2",
   "metadata": {},
   "outputs": [],
   "source": []
  },
  {
   "cell_type": "code",
   "execution_count": null,
   "id": "7fad045a",
   "metadata": {},
   "outputs": [],
   "source": []
  }
 ],
 "metadata": {
  "kernelspec": {
   "display_name": "Python 3 (ipykernel)",
   "language": "python",
   "name": "python3"
  },
  "language_info": {
   "codemirror_mode": {
    "name": "ipython",
    "version": 3
   },
   "file_extension": ".py",
   "mimetype": "text/x-python",
   "name": "python",
   "nbconvert_exporter": "python",
   "pygments_lexer": "ipython3",
   "version": "3.8.12"
  }
 },
 "nbformat": 4,
 "nbformat_minor": 5
}
